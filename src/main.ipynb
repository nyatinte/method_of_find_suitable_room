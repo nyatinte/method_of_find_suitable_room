{
 "cells": [
  {
   "cell_type": "code",
   "execution_count": 16,
   "metadata": {},
   "outputs": [],
   "source": [
    "from ipywidgets import interact\n",
    "import numpy as np\n",
    "import pandas as pd\n",
    "import matplotlib.pyplot as plt\n",
    "import seaborn as sns\n",
    "import japanize_matplotlib"
   ]
  },
  {
   "cell_type": "code",
   "execution_count": 17,
   "metadata": {},
   "outputs": [],
   "source": [
    "def select(n_member:int, n_reserved:int, verbose=False) -> bool:\n",
    "    \"\"\"\n",
    "    集団人数と観察人数から、最適な人を選べるかどうかを判定する\n",
    "\n",
    "    Parameters\n",
    "    ----------\n",
    "    n_member : int\n",
    "        集団人数\n",
    "    n_reserved : int\n",
    "        観察人数\n",
    "\n",
    "    Returns\n",
    "    -------\n",
    "    bool\n",
    "        最適な人を選べるかどうか\n",
    "    \"\"\"\n",
    "    applicats = np.random.permutation(n_member)\n",
    "    candidate = applicats[:n_reserved]\n",
    "    best_of_group = np.max(applicats)\n",
    "    best_of_candidate = np.max(candidate)\n",
    "    log_df = pd.DataFrame({\n",
    "        '集団': [applicats],\n",
    "        '観測した集団': [candidate], \n",
    "        '最適な人': [best_of_group],\n",
    "        '観測した集団の中で最も優秀な人': [best_of_candidate],\n",
    "        '最適な人が観測した集団にいるか': [best_of_group in candidate],\n",
    "    })\n",
    "    if (verbose):\n",
    "        display(log_df)\n",
    "\n",
    "    if (np.max(applicats) in candidate):\n",
    "        return False\n",
    "    \n",
    "    selected = np.max(candidate)\n",
    "    for i in range(n_reserved, n_member):\n",
    "        if (applicats[i] == best_of_group):\n",
    "            return True\n",
    "        if (applicats[i] > selected):\n",
    "            return False\n",
    "\n",
    "    return False    "
   ]
  },
  {
   "cell_type": "code",
   "execution_count": 18,
   "metadata": {},
   "outputs": [
    {
     "data": {
      "application/vnd.jupyter.widget-view+json": {
       "model_id": "8c2eb4e8bc2548cdbed07d8ff9a8ec0a",
       "version_major": 2,
       "version_minor": 0
      },
      "text/plain": [
       "interactive(children=(IntSlider(value=50, description='n_member', min=1), IntSlider(value=5, description='n_re…"
      ]
     },
     "metadata": {},
     "output_type": "display_data"
    }
   ],
   "source": [
    "@interact(n_member=(1, 100), n_reserved=(1, 10))\n",
    "def select_interactive(n_member:int, n_reserved:int):\n",
    "    \"\"\"\n",
    "    インタラクティブに表示するためのラッパー関数\n",
    "    \"\"\"\n",
    "    is_success = select(n_member, n_reserved, verbose=True)\n",
    "    if is_success:\n",
    "        print('最適な人を選べました！')\n",
    "    else:\n",
    "        print('最適な人を選べませんでした...')"
   ]
  },
  {
   "cell_type": "code",
   "execution_count": 19,
   "metadata": {},
   "outputs": [],
   "source": [
    "\n",
    "def simulate(n_member:int, n_trial:int) -> float:\n",
    "    r_mean_prob = np.zeros(n_member)\n",
    "    for i in range(1,n_member):\n",
    "        for _ in range(n_trial):\n",
    "            r_mean_prob[i] += select(n_member, i)\n",
    "\n",
    "        r_mean_prob[i] /= n_trial\n",
    "    \n",
    "    # seabornで散布図を描画\n",
    "    sns.scatterplot(x=range(n_member), y=r_mean_prob)\n",
    "    plt.xlabel('観測人数')\n",
    "    plt.ylabel('最適な人を選べる確率')\n",
    "    plt.grid()\n",
    "    plt.title(f'集団人数: {n_member}, 試行回数: {n_trial}')\n",
    "    print(f'最大値: {np.max(r_mean_prob):.2f}')\n",
    "    print(f'{np.argmax(r_mean_prob)}人観測すると最適な人を選べる確率が最大になります')\n",
    "    print(f'{ np.argmax(r_mean_prob) / n_member * 100:.2f}%の人を観測すると最適な人を選べる確率が最大になります')"
   ]
  },
  {
   "cell_type": "code",
   "execution_count": 20,
   "metadata": {},
   "outputs": [
    {
     "data": {
      "application/vnd.jupyter.widget-view+json": {
       "model_id": "ee3b69b66bc24b73abb6fe967dd585f8",
       "version_major": 2,
       "version_minor": 0
      },
      "text/plain": [
       "interactive(children=(IntSlider(value=55, description='n_member', min=10), Dropdown(description='n_trial', opt…"
      ]
     },
     "metadata": {},
     "output_type": "display_data"
    }
   ],
   "source": [
    "@interact(n_member=(10, 100), n_trial=[10, 100, 1000, 2000])\n",
    "def simulate_interactive(n_member:int, n_trial:int):\n",
    "    \"\"\"\n",
    "    インタラクティブに表示するためのラッパー関数\n",
    "    \"\"\"\n",
    "    simulate(n_member, n_trial)"
   ]
  },
  {
   "cell_type": "code",
   "execution_count": 21,
   "metadata": {},
   "outputs": [
    {
     "name": "stdout",
     "output_type": "stream",
     "text": [
      "x = 0.3636363637, y = 0.36785487697473096\n"
     ]
    },
    {
     "data": {
      "image/png": "[encoded data removed]",
      "text/plain": [
       "<Figure size 640x480 with 1 Axes>"
      ]
     },
     "metadata": {},
     "output_type": "display_data"
    }
   ],
   "source": [
    "X = np.linspace(1e-10, 1, 100)\n",
    "f = lambda x: -x*np.log(x)\n",
    "\n",
    "sns.lineplot(x=X, y=f(X));\n",
    "\n",
    "print(f'x = {X[np.argmax(f(X))]}, y = {np.max(f(X))}')"
   ]
  },
  {
   "cell_type": "code",
   "execution_count": null,
   "metadata": {},
   "outputs": [],
   "source": []
  }
 ],
 "metadata": {
  "kernelspec": {
   "display_name": ".venv",
   "language": "python",
   "name": "python3"
  },
  "language_info": {
   "codemirror_mode": {
    "name": "ipython",
    "version": 3
   },
   "file_extension": ".py",
   "mimetype": "text/x-python",
   "name": "python",
   "nbconvert_exporter": "python",
   "pygments_lexer": "ipython3",
   "version": "3.11.3"
  },
  "orig_nbformat": 4
 },
 "nbformat": 4,
 "nbformat_minor": 2
}
